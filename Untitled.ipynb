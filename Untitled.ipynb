{
 "cells": [
  {
   "cell_type": "code",
   "execution_count": 140,
   "metadata": {
    "scrolled": false
   },
   "outputs": [
    {
     "name": "stdout",
     "output_type": "stream",
     "text": [
      "   satisfaction_level  last_evaluation  number_project  average_montly_hours  \\\n",
      "0                0.38             0.53               2                   157   \n",
      "1                0.80             0.86               5                   262   \n",
      "2                0.11             0.88               7                   272   \n",
      "3                0.72             0.87               5                   223   \n",
      "4                0.37             0.52               2                   159   \n",
      "\n",
      "   time_spend_company  Work_accident  left  promotion_last_5years  sales  \\\n",
      "0                   3              0     1                      0  sales   \n",
      "1                   6              0     1                      0  sales   \n",
      "2                   4              0     1                      0  sales   \n",
      "3                   5              0     1                      0  sales   \n",
      "4                   3              0     1                      0  sales   \n",
      "\n",
      "   salary  \n",
      "0     low  \n",
      "1  medium  \n",
      "2  medium  \n",
      "3     low  \n",
      "4     low  \n",
      "<class 'pandas.core.frame.DataFrame'>\n",
      "RangeIndex: 14999 entries, 0 to 14998\n",
      "Data columns (total 10 columns):\n",
      "satisfaction_level       14999 non-null float64\n",
      "last_evaluation          14999 non-null float64\n",
      "number_project           14999 non-null int64\n",
      "average_montly_hours     14999 non-null int64\n",
      "time_spend_company       14999 non-null int64\n",
      "Work_accident            14999 non-null int64\n",
      "left                     14999 non-null int64\n",
      "promotion_last_5years    14999 non-null int64\n",
      "sales                    14999 non-null object\n",
      "salary                   14999 non-null object\n",
      "dtypes: float64(2), int64(6), object(2)\n",
      "memory usage: 1.1+ MB\n",
      "['sales' 'accounting' 'hr' 'technical' 'support' 'management' 'IT'\n",
      " 'product_mng' 'marketing' 'RandD']\n",
      "['low' 'medium' 'high']\n"
     ]
    }
   ],
   "source": [
    "\n",
    "import pandas as pd\n",
    "data=pd.read_csv('../DATA/turnover.csv')\n",
    "\n",
    "\n",
    "#retreiving the general info of the dataset\n",
    "\n",
    "\n",
    "print(data.head(5))\n",
    "data.info()\n",
    "\n",
    "print(data.sales.unique())\n",
    "print(data.salary.unique())\n",
    "\n",
    "\n",
    "\n"
   ]
  },
  {
   "cell_type": "code",
   "execution_count": 141,
   "metadata": {},
   "outputs": [
    {
     "name": "stdout",
     "output_type": "stream",
     "text": [
      "   RandD  accounting  hr  management  marketing  product_mng  sales  support  \\\n",
      "0      0           0   0           0          0            0      1        0   \n",
      "1      0           0   0           0          0            0      1        0   \n",
      "2      0           0   0           0          0            0      1        0   \n",
      "3      0           0   0           0          0            0      1        0   \n",
      "4      0           0   0           0          0            0      1        0   \n",
      "\n",
      "   technical  \n",
      "0          0  \n",
      "1          0  \n",
      "2          0  \n",
      "3          0  \n",
      "4          0  \n",
      "   satisfaction_level  last_evaluation  number_project  average_montly_hours  \\\n",
      "0                0.38             0.53               2                   157   \n",
      "1                0.80             0.86               5                   262   \n",
      "2                0.11             0.88               7                   272   \n",
      "3                0.72             0.87               5                   223   \n",
      "4                0.37             0.52               2                   159   \n",
      "\n",
      "   time_spend_company  Work_accident  left  promotion_last_5years  salary  \\\n",
      "0                   3              0     1                      0       0   \n",
      "1                   6              0     1                      0       1   \n",
      "2                   4              0     1                      0       1   \n",
      "3                   5              0     1                      0       0   \n",
      "4                   3              0     1                      0       0   \n",
      "\n",
      "   RandD  accounting  hr  management  marketing  product_mng  sales  support  \\\n",
      "0      0           0   0           0          0            0      1        0   \n",
      "1      0           0   0           0          0            0      1        0   \n",
      "2      0           0   0           0          0            0      1        0   \n",
      "3      0           0   0           0          0            0      1        0   \n",
      "4      0           0   0           0          0            0      1        0   \n",
      "\n",
      "   technical  \n",
      "0          0  \n",
      "1          0  \n",
      "2          0  \n",
      "3          0  \n",
      "4          0  \n"
     ]
    }
   ],
   "source": [
    "#recoding the ordinal variable 'salary' as a numerical variable with values 0-2 \n",
    "\n",
    "data.salary=data.salary.astype('category')\n",
    "data.salary=data.salary.cat.reorder_categories(['low','medium','high'])\n",
    "data.salary=data.salary.cat.codes\n",
    "\n",
    "\n",
    "#creating dummy variables for the departments\n",
    "\n",
    "departments=pd.get_dummies(data.sales)\n",
    "\n",
    "#dropping one dummy variable to avoid dummy trap\n",
    "departments=departments.drop('IT',axis=1)\n",
    "\n",
    "\n",
    "print (departments.head(5))\n",
    "\n",
    "#dropping the old 'sales' column, which was the categorical variable with al the departments.\n",
    "\n",
    "data=data.drop('sales',axis=1)\n",
    "\n",
    "\n",
    "#merging the dummy dataframe with the original datframe with all the variables.\n",
    "data=data.join(departments)\n",
    "print (data.head(5))\n"
   ]
  },
  {
   "cell_type": "code",
   "execution_count": null,
   "metadata": {},
   "outputs": [],
   "source": []
  },
  {
   "cell_type": "code",
   "execution_count": 128,
   "metadata": {},
   "outputs": [
    {
     "data": {
      "image/png": "[encoded data removed]",
      "text/plain": [
       "<Figure size 432x288 with 2 Axes>"
      ]
     },
     "metadata": {},
     "output_type": "display_data"
    }
   ],
   "source": [
    "#Correlation matrix for all variables.\n",
    "\n",
    "import matplotlib.pyplot as plt\n",
    "import seaborn as sns\n",
    "\n",
    "\n",
    "corr_matrix = data.corr()\n",
    "sns.heatmap(corr_matrix,)\n",
    "plt.show()"
   ]
  },
  {
   "cell_type": "code",
   "execution_count": 129,
   "metadata": {},
   "outputs": [
    {
     "name": "stdout",
     "output_type": "stream",
     "text": [
      "3571\n",
      "total employees\n",
      "23.80825388359224\n",
      "76.19174611640777\n"
     ]
    }
   ],
   "source": [
    "# calculating percentage of attrition in our dataset.\n",
    "\n",
    "emp_left=sum(data.left)\n",
    "print(emp_left)\n",
    "total_employees=len(data)\n",
    "\n",
    "print('total employees')\n",
    "\n",
    "print(emp_left/total_employees*100)\n",
    "print((total_employees-emp_left)/total_employees*100)"
   ]
  },
  {
   "cell_type": "code",
   "execution_count": 130,
   "metadata": {},
   "outputs": [],
   "source": [
    "#separating target and features as 2 different objects to be called afterwards.\n",
    "\n",
    "target=data.left\n",
    "features=data.drop('left',axis=1)\n",
    "\n",
    "\n"
   ]
  },
  {
   "cell_type": "code",
   "execution_count": 131,
   "metadata": {},
   "outputs": [],
   "source": [
    "# Importing the function for splitting dataset into train and test\n",
    "from sklearn.model_selection import train_test_split\n",
    "\n",
    "# Using that function to create the splits both for target and for features\n",
    "# Setting the test sample to be 25% of your observations\n",
    "target_train, target_test, features_train, features_test = train_test_split(target,features,test_size=0.25,random_state=42)"
   ]
  },
  {
   "cell_type": "code",
   "execution_count": 132,
   "metadata": {},
   "outputs": [
    {
     "data": {
      "text/plain": [
       "LogisticRegression(C=1.0, class_weight=None, dual=False, fit_intercept=True,\n",
       "          intercept_scaling=1, max_iter=100, multi_class='ovr', n_jobs=1,\n",
       "          penalty='l2', random_state=None, solver='liblinear', tol=0.0001,\n",
       "          verbose=0, warm_start=False)"
      ]
     },
     "execution_count": 132,
     "metadata": {},
     "output_type": "execute_result"
    }
   ],
   "source": [
    "# Import linear_model from sklearn.\n",
    "from sklearn import linear_model\n",
    "\n",
    "\n",
    "# Create a logistic regression model logreg and fit it to the data.\n",
    "logreg = linear_model.LogisticRegression()\n",
    "logreg.fit(features_train,target_train)"
   ]
  },
  {
   "cell_type": "code",
   "execution_count": 138,
   "metadata": {},
   "outputs": [
    {
     "name": "stdout",
     "output_type": "stream",
     "text": [
      "satisfaction_level.....................-4.15942157715404\n",
      "last_evaluation.....................0.6379667895458496\n",
      "number_project.....................-0.297444879118595\n",
      "average_montly_hours.....................0.004728359267817376\n",
      "time_spend_company.....................0.2590435982608431\n",
      "Work_accident.....................-1.4908984975407562\n",
      "promotion_last_5years.....................-1.0180551739701098\n",
      "salary.....................-0.6639001683055316\n",
      "RandD.....................-0.5457939131670667\n",
      "accounting.....................0.1222313425130291\n",
      "hr.....................0.42856991419107976\n",
      "management.....................-0.35549602915997847\n",
      "marketing.....................0.19094504764382667\n",
      "product_mng.....................0.0740479843964619\n",
      "sales.....................0.14263384746921653\n",
      "support.....................0.18167671275260142\n",
      "technical.....................0.2382584484433445\n",
      "[0.31601137]\n"
     ]
    }
   ],
   "source": [
    "\n",
    "\n",
    "# Assign the coefficients to a list coef\n",
    "\n",
    "predictors = features.columns.values\n",
    "coef = logreg.coef_\n",
    "for p,c in zip(predictors,list(coef[0])):\n",
    "    print(p + '.....................' + str(c))\n",
    "    \n",
    "# Assign the intercept to the variable intercept\n",
    "intercept = logreg.intercept_\n",
    "print(intercept)\n"
   ]
  },
  {
   "cell_type": "code",
   "execution_count": null,
   "metadata": {},
   "outputs": [],
   "source": []
  }
 ],
 "metadata": {
  "kernelspec": {
   "display_name": "Python 3",
   "language": "python",
   "name": "python3"
  },
  "language_info": {
   "codemirror_mode": {
    "name": "ipython",
    "version": 3
   },
   "file_extension": ".py",
   "mimetype": "text/x-python",
   "name": "python",
   "nbconvert_exporter": "python",
   "pygments_lexer": "ipython3",
   "version": "3.6.5"
  }
 },
 "nbformat": 4,
 "nbformat_minor": 2
}
